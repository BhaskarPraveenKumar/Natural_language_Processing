{
 "cells": [
  {
   "cell_type": "code",
   "execution_count": 17,
   "metadata": {},
   "outputs": [],
   "source": [
    "#regular expression #compile(), finditer(target str, source str ), start(), end()-returns (end +1) , group() - is nothing but the target str"
   ]
  },
  {
   "cell_type": "code",
   "execution_count": 24,
   "metadata": {},
   "outputs": [
    {
     "name": "stdout",
     "output_type": "stream",
     "text": [
      "start_index : 7, end_index :8, group:h\n"
     ]
    }
   ],
   "source": [
    "import re\n",
    "match = re.finditer('h', 'abcdefgh') #finditer() : returns the index of the reqiuired str\n",
    "for m in match:\n",
    "    print('start_index : {}, end_index :{}, group:{}'.format(m.start(), m.end(), m.group()) )"
   ]
  },
  {
   "cell_type": "code",
   "execution_count": 40,
   "metadata": {},
   "outputs": [
    {
     "name": "stdout",
     "output_type": "stream",
     "text": [
      "group:defstrt3\n",
      "group:defstrt8\n",
      "2\n"
     ]
    }
   ],
   "source": [
    "import re \n",
    "count = 0\n",
    "index = re.finditer('def', 'abcdefghdef')\n",
    "for i in index:\n",
    "    count += 1\n",
    "    print('group:', i.group(), 'strt' , i.start(), sep = '', end = '\\n')\n",
    "print(count)    "
   ]
  },
  {
   "cell_type": "code",
   "execution_count": 41,
   "metadata": {},
   "outputs": [],
   "source": [
    "#character classes\n",
    "#[abc] - either a or b or c\n",
    "#[^abc] - except a or b o r c\n",
    "#[a-zA-Z0-9] - alpha numeric\n",
    "#[a - z] - a to z lower_case"
   ]
  },
  {
   "cell_type": "code",
   "execution_count": 50,
   "metadata": {},
   "outputs": [
    {
     "name": "stdout",
     "output_type": "stream",
     "text": [
      "6 #\n"
     ]
    }
   ],
   "source": [
    "import re\n",
    "index = re.finditer('[^a-zA-Z0-9]', 'def123#')\n",
    "for i in index:\n",
    "    print(i.start(), i.group())"
   ]
  },
  {
   "cell_type": "code",
   "execution_count": 51,
   "metadata": {},
   "outputs": [],
   "source": [
    "#predefined charcters\n",
    "# \\d - any digits\n",
    "# \\D - except any digits\n",
    "# \\w - alpha numeric \n",
    "# \\W - only special characters\n",
    "# \\s - only space characters\n",
    "# \\S - except space charcters\n",
    "# . - every character"
   ]
  },
  {
   "cell_type": "code",
   "execution_count": 54,
   "metadata": {},
   "outputs": [
    {
     "name": "stdout",
     "output_type": "stream",
     "text": [
      "6 #\n"
     ]
    }
   ],
   "source": [
    "import re\n",
    "index = re.finditer('\\W', 'def123#')\n",
    "for i in index:\n",
    "    print(i.start(), i.group())"
   ]
  },
  {
   "cell_type": "code",
   "execution_count": 56,
   "metadata": {},
   "outputs": [
    {
     "name": "stdout",
     "output_type": "stream",
     "text": [
      "0 d 1 e 2 f 3 1 4 2 5 3 "
     ]
    }
   ],
   "source": [
    "import re\n",
    "index = re.finditer('\\w', 'def123#')\n",
    "for i in index:\n",
    "    print(i.start(), i.group(), end = ' ')"
   ]
  },
  {
   "cell_type": "code",
   "execution_count": 59,
   "metadata": {},
   "outputs": [
    {
     "name": "stdout",
     "output_type": "stream",
     "text": [
      "0 d\n",
      "1 e\n",
      "2 f\n",
      "3 1\n",
      "4 2\n",
      "5 3\n",
      "6 #\n"
     ]
    }
   ],
   "source": [
    "import re\n",
    "index = re.finditer('.', 'def123#')\n",
    "for i in index:\n",
    "    print(i.start(), i.group())"
   ]
  },
  {
   "cell_type": "code",
   "execution_count": 60,
   "metadata": {},
   "outputs": [],
   "source": [
    "# quantifiers\n",
    "# a - exactly one a\n",
    "# a+ - atleast one a\n",
    "# a* - any number of a's\n",
    "# a? - atmost one a's --> atleast one a or zro number of a's"
   ]
  },
  {
   "cell_type": "code",
   "execution_count": 65,
   "metadata": {},
   "outputs": [
    {
     "name": "stdout",
     "output_type": "stream",
     "text": [
      "0 d\n",
      "2 d\n",
      "6 d\n",
      "7 d\n"
     ]
    }
   ],
   "source": [
    "import re\n",
    "index = re.finditer('d', 'dedeffddef123#')\n",
    "for i in index:\n",
    "    print(i.start(), i.group())"
   ]
  },
  {
   "cell_type": "code",
   "execution_count": 69,
   "metadata": {},
   "outputs": [
    {
     "name": "stdout",
     "output_type": "stream",
     "text": [
      "0 d\n",
      "2 d\n",
      "6 dd\n",
      "9 d\n"
     ]
    }
   ],
   "source": [
    "import re\n",
    "index = re.finditer('d+', 'dedeffddedf123#')\n",
    "for i in index:\n",
    "    print(i.start(), i.group())"
   ]
  },
  {
   "cell_type": "code",
   "execution_count": 72,
   "metadata": {},
   "outputs": [
    {
     "name": "stdout",
     "output_type": "stream",
     "text": [
      "0 d\n",
      "1 \n",
      "2 d\n",
      "3 \n",
      "4 \n",
      "5 \n",
      "6 dd\n",
      "8 \n",
      "9 \n",
      "10 \n",
      "11 \n",
      "12 \n",
      "13 \n",
      "14 \n"
     ]
    }
   ],
   "source": [
    "import re\n",
    "index = re.finditer('d*', 'dedeffddef123#')\n",
    "for i in index:\n",
    "    print(i.start(), i.group())"
   ]
  },
  {
   "cell_type": "code",
   "execution_count": 68,
   "metadata": {},
   "outputs": [
    {
     "name": "stdout",
     "output_type": "stream",
     "text": [
      "0 d\n",
      "1 \n",
      "2 d\n",
      "3 \n",
      "4 \n",
      "5 \n",
      "6 d\n",
      "7 d\n",
      "8 \n",
      "9 \n",
      "10 \n",
      "11 \n",
      "12 \n",
      "13 \n",
      "14 \n"
     ]
    }
   ],
   "source": [
    "import re\n",
    "index = re.finditer('d?', 'dedeffddef123#')\n",
    "for i in index:\n",
    "    print(i.start(), i.group())"
   ]
  },
  {
   "cell_type": "code",
   "execution_count": 79,
   "metadata": {},
   "outputs": [
    {
     "name": "stdout",
     "output_type": "stream",
     "text": [
      "10 ddd\n"
     ]
    }
   ],
   "source": [
    "import re\n",
    "index = re.finditer('d{3}d*', 'dedeffddefddd#')\n",
    "for i in index:\n",
    "    print(i.start(), i.group())"
   ]
  },
  {
   "cell_type": "code",
   "execution_count": 96,
   "metadata": {},
   "outputs": [
    {
     "name": "stdin",
     "output_type": "stream",
     "text": [
      "enter any mobile number +197207509980\n"
     ]
    },
    {
     "name": "stdout",
     "output_type": "stream",
     "text": [
      "mobile number is valid\n"
     ]
    }
   ],
   "source": [
    "num = input('enter any mobile number')\n",
    "m = re.fullmatch('\\W[1-9]{2}[6-9]\\d{9}' ,num)\n",
    "if m != None:\n",
    "    print('mobile number is valid')\n",
    "else:\n",
    "    print('enter valid mobile number')"
   ]
  },
  {
   "cell_type": "code",
   "execution_count": 129,
   "metadata": {},
   "outputs": [
    {
     "name": "stdout",
     "output_type": "stream",
     "text": [
      "['From:']\n"
     ]
    }
   ],
   "source": [
    "x='From: Using the : character'\n",
    "y1=re.findall('^F.+:', x)\n",
    "y=re.findall('^F.+?:', x)\n",
    "print (y)"
   ]
  },
  {
   "cell_type": "code",
   "execution_count": 137,
   "metadata": {},
   "outputs": [
    {
     "name": "stdout",
     "output_type": "stream",
     "text": [
      "['yunfei.long@essex.ac.uk']\n"
     ]
    }
   ],
   "source": [
    "# Find my email!\n",
    "x='From yunfei.long@essex.ac.uk Sat Jan 5 09:14:06 2020'\n",
    "y1=re.findall('\\S+@+\\S+',x)\n",
    "y2=re.findall('^From (\\S+@+\\S+)',x)\n",
    "print (y1)"
   ]
  },
  {
   "cell_type": "code",
   "execution_count": 114,
   "metadata": {},
   "outputs": [
    {
     "name": "stdout",
     "output_type": "stream",
     "text": [
      "[]\n"
     ]
    }
   ],
   "source": [
    "import re\n",
    "x='From yunfei.long@essex.ac.uk Sat Jan 5 09:14:06 2020'\n",
    "y =re.findall('^[a-z]+[\\._]?[@][a-z]+[\\._]?[a-z]+[\\._]?[a-z]+', x)\n",
    "print(y)"
   ]
  },
  {
   "cell_type": "code",
   "execution_count": 5,
   "metadata": {},
   "outputs": [
    {
     "name": "stdout",
     "output_type": "stream",
     "text": [
      "['www.abc.com']\n"
     ]
    }
   ],
   "source": [
    "#slpit fuction\n",
    "import re\n",
    "s = 'www.abc.com'\n",
    "l = re.split('[-]', s)\n",
    "print(l)"
   ]
  },
  {
   "cell_type": "code",
   "execution_count": 3,
   "metadata": {},
   "outputs": [
    {
     "name": "stdout",
     "output_type": "stream",
     "text": [
      "Details: http://source.sakaiproject.org/viewsvn/?view=rev&rev=39772\n",
      "Details: http://source.sakaiproject.org/viewsvn/?view=rev&rev=39771\n",
      "Details: http://source.sakaiproject.org/viewsvn/?view=rev&rev=39770\n",
      "Details: http://source.sakaiproject.org/viewsvn/?view=rev&rev=39769\n",
      "Details: http://source.sakaiproject.org/viewsvn/?view=rev&rev=39766\n",
      "Details: http://source.sakaiproject.org/viewsvn/?view=rev&rev=39765\n",
      "Details: http://source.sakaiproject.org/viewsvn/?view=rev&rev=39764\n",
      "Details: http://source.sakaiproject.org/viewsvn/?view=rev&rev=39763\n",
      "Details: http://source.sakaiproject.org/viewsvn/?view=rev&rev=39762\n",
      "Details: http://source.sakaiproject.org/viewsvn/?view=rev&rev=39761\n",
      "Details: http://source.sakaiproject.org/viewsvn/?view=rev&rev=39760\n",
      "Details: http://source.sakaiproject.org/viewsvn/?view=rev&rev=39759\n",
      "Details: http://source.sakaiproject.org/viewsvn/?view=rev&rev=39758\n",
      "Details: http://source.sakaiproject.org/viewsvn/?view=rev&rev=39757\n",
      "Details: http://source.sakaiproject.org/viewsvn/?view=rev&rev=39756\n",
      "Details: http://source.sakaiproject.org/viewsvn/?view=rev&rev=39755\n",
      "Details: http://source.sakaiproject.org/viewsvn/?view=rev&rev=39754\n",
      "Details: http://source.sakaiproject.org/viewsvn/?view=rev&rev=39753\n",
      "Details: http://source.sakaiproject.org/viewsvn/?view=rev&rev=39752\n",
      "Details: http://source.sakaiproject.org/viewsvn/?view=rev&rev=39751\n",
      "Details: http://source.sakaiproject.org/viewsvn/?view=rev&rev=39750\n",
      "Details: http://source.sakaiproject.org/viewsvn/?view=rev&rev=39749\n",
      "Details: http://source.sakaiproject.org/viewsvn/?view=rev&rev=39746\n",
      "Details: http://source.sakaiproject.org/viewsvn/?view=rev&rev=39745\n",
      "Details: http://source.sakaiproject.org/viewsvn/?view=rev&rev=39744\n",
      "Details: http://source.sakaiproject.org/viewsvn/?view=rev&rev=39743\n",
      "Details: http://source.sakaiproject.org/viewsvn/?view=rev&rev=39742\n"
     ]
    }
   ],
   "source": [
    "import re\n",
    "f1 = open('mbox-short.txt')\n",
    "for line in f1:\n",
    "    l = line.rstrip()\n",
    "    if re.search('^De.*', l):\n",
    "         print(l)"
   ]
  },
  {
   "cell_type": "code",
   "execution_count": 44,
   "metadata": {
    "jupyter": {
     "source_hidden": true
    }
   },
   "outputs": [
    {
     "name": "stdout",
     "output_type": "stream",
     "text": [
      "match succesfull\n"
     ]
    }
   ],
   "source": [
    "import re\n",
    "num = '12345678900'\n",
    "m=  re.fullmatch('\\d+', num)\n",
    "if m != None:\n",
    "    print('match succesfull')\n",
    "else:\n",
    "    print('match failed')  "
   ]
  },
  {
   "cell_type": "code",
   "execution_count": 52,
   "metadata": {},
   "outputs": [
    {
     "name": "stdout",
     "output_type": "stream",
     "text": [
      "['555.123.4565']\n"
     ]
    }
   ],
   "source": [
    "import re\n",
    "\n",
    "m = re.findall('\\d.*', '555.123.4565')\n",
    "print(m)"
   ]
  },
  {
   "cell_type": "code",
   "execution_count": 59,
   "metadata": {},
   "outputs": [
    {
     "name": "stdout",
     "output_type": "stream",
     "text": [
      "555.123.4565\n",
      "\n",
      "+1-(800)-545-2468\n",
      "\n",
      "2-(800)-545-2468\n",
      "\n",
      "3-800-545-2468\n",
      "\n",
      "555-123-3456\n",
      "\n",
      "555 222 3342\n",
      "\n",
      "(234) 234 2442\n",
      "\n",
      "(243)-234-2342\n",
      "\n",
      "1234567890\n",
      "\n",
      "123.456.7890\n",
      "\n",
      "123.4567\n",
      "\n",
      "123-4567\n",
      "\n",
      "1234567900\n",
      "\n",
      "12345678900\n",
      "\n"
     ]
    }
   ],
   "source": [
    "f1 = open('mobile_numbers.txt')\n",
    "for line in f1:\n",
    "    if re.search('\\D', line):\n",
    "        print(line)"
   ]
  },
  {
   "cell_type": "code",
   "execution_count": 54,
   "metadata": {},
   "outputs": [
    {
     "name": "stdout",
     "output_type": "stream",
     "text": [
      "<_io.TextIOWrapper name='mobile_numbers.txt' mode='r' encoding='cp1252'>\n"
     ]
    }
   ],
   "source": [
    "m = re.search()"
   ]
  },
  {
   "cell_type": "code",
   "execution_count": 14,
   "metadata": {},
   "outputs": [
    {
     "name": "stdout",
     "output_type": "stream",
     "text": [
      "Received: from murder (mail.umich.edu [141.211.14.90])\n",
      "Received: from murder ([unix socket])\n",
      "Received: from holes.mr.itd.umich.edu (holes.mr.itd.umich.edu [141.211.14.79])\n",
      "Received: FROM paploo.uhi.ac.uk (app1.prod.collab.uhi.ac.uk [194.35.219.184])\n",
      "Received: from paploo.uhi.ac.uk (localhost [127.0.0.1])\n",
      "Received: from prod.collab.uhi.ac.uk ([194.35.219.182])\n",
      "Received: from nakamura.uits.iupui.edu (nakamura.uits.iupui.edu [134.68.220.122])\n",
      "Received: from nakamura.uits.iupui.edu (localhost [127.0.0.1])\n",
      "Received: (from apache@localhost)\n",
      "Received: from murder (mail.umich.edu [141.211.14.97])\n",
      "Received: from murder ([unix socket])\n",
      "Received: from icestorm.mr.itd.umich.edu (icestorm.mr.itd.umich.edu [141.211.93.149])\n",
      "Received: FROM paploo.uhi.ac.uk (app1.prod.collab.uhi.ac.uk [194.35.219.184])\n",
      "Received: from paploo.uhi.ac.uk (localhost [127.0.0.1])\n",
      "Received: from prod.collab.uhi.ac.uk ([194.35.219.182])\n",
      "Received: from nakamura.uits.iupui.edu (nakamura.uits.iupui.edu [134.68.220.122])\n",
      "Received: from nakamura.uits.iupui.edu (localhost [127.0.0.1])\n",
      "Received: (from apache@localhost)\n",
      "Received: from murder (mail.umich.edu [141.211.14.25])\n",
      "Received: from murder ([unix socket])\n",
      "Received: from ghostbusters.mr.itd.umich.edu (ghostbusters.mr.itd.umich.edu [141.211.93.144])\n",
      "Received: FROM paploo.uhi.ac.uk (app1.prod.collab.uhi.ac.uk [194.35.219.184])\n",
      "Received: from paploo.uhi.ac.uk (localhost [127.0.0.1])\n",
      "Received: from prod.collab.uhi.ac.uk ([194.35.219.182])\n",
      "Received: from nakamura.uits.iupui.edu (nakamura.uits.iupui.edu [134.68.220.122])\n",
      "Received: from nakamura.uits.iupui.edu (localhost [127.0.0.1])\n",
      "Received: (from apache@localhost)\n",
      "Received: from murder (mail.umich.edu [141.211.14.25])\n",
      "Received: from murder ([unix socket])\n",
      "Received: from dreamcatcher.mr.itd.umich.edu (dreamcatcher.mr.itd.umich.edu [141.211.14.43])\n",
      "Received: FROM paploo.uhi.ac.uk (app1.prod.collab.uhi.ac.uk [194.35.219.184])\n",
      "Received: from paploo.uhi.ac.uk (localhost [127.0.0.1])\n",
      "Received: from prod.collab.uhi.ac.uk ([194.35.219.182])\n",
      "Received: from nakamura.uits.iupui.edu (nakamura.uits.iupui.edu [134.68.220.122])\n",
      "Received: from nakamura.uits.iupui.edu (localhost [127.0.0.1])\n",
      "Received: (from apache@localhost)\n",
      "Received: from murder (mail.umich.edu [141.211.14.46])\n",
      "Received: from murder ([unix socket])\n",
      "Received: from firestarter.mr.itd.umich.edu (firestarter.mr.itd.umich.edu [141.211.14.83])\n",
      "Received: FROM paploo.uhi.ac.uk (app1.prod.collab.uhi.ac.uk [194.35.219.184])\n",
      "Received: from paploo.uhi.ac.uk (localhost [127.0.0.1])\n",
      "Received: from prod.collab.uhi.ac.uk ([194.35.219.182])\n",
      "Received: from nakamura.uits.iupui.edu (nakamura.uits.iupui.edu [134.68.220.122])\n",
      "Received: from nakamura.uits.iupui.edu (localhost [127.0.0.1])\n",
      "Received: (from apache@localhost)\n",
      "Received: from murder (mail.umich.edu [141.211.14.93])\n",
      "Received: from murder ([unix socket])\n",
      "Received: from eyewitness.mr.itd.umich.edu (eyewitness.mr.itd.umich.edu [141.211.93.142])\n",
      "Received: FROM paploo.uhi.ac.uk (app1.prod.collab.uhi.ac.uk [194.35.219.184])\n",
      "Received: from paploo.uhi.ac.uk (localhost [127.0.0.1])\n",
      "Received: from prod.collab.uhi.ac.uk ([194.35.219.182])\n",
      "Received: from nakamura.uits.iupui.edu (nakamura.uits.iupui.edu [134.68.220.122])\n",
      "Received: from nakamura.uits.iupui.edu (localhost [127.0.0.1])\n",
      "Received: (from apache@localhost)\n",
      "Received: from murder (mail.umich.edu [141.211.14.46])\n",
      "Received: from murder ([unix socket])\n",
      "Received: from tadpole.mr.itd.umich.edu (tadpole.mr.itd.umich.edu [141.211.14.72])\n",
      "Received: FROM paploo.uhi.ac.uk (app1.prod.collab.uhi.ac.uk [194.35.219.184])\n",
      "Received: from paploo.uhi.ac.uk (localhost [127.0.0.1])\n",
      "Received: from prod.collab.uhi.ac.uk ([194.35.219.182])\n",
      "Received: from nakamura.uits.iupui.edu (nakamura.uits.iupui.edu [134.68.220.122])\n",
      "Received: from nakamura.uits.iupui.edu (localhost [127.0.0.1])\n",
      "Received: (from apache@localhost)\n",
      "Received: from murder (mail.umich.edu [141.211.14.46])\n",
      "Received: from murder ([unix socket])\n",
      "Received: from it.mr.itd.umich.edu (it.mr.itd.umich.edu [141.211.93.151])\n",
      "Received: FROM paploo.uhi.ac.uk (app1.prod.collab.uhi.ac.uk [194.35.219.184])\n",
      "Received: from paploo.uhi.ac.uk (localhost [127.0.0.1])\n",
      "Received: from prod.collab.uhi.ac.uk ([194.35.219.182])\n",
      "Received: from nakamura.uits.iupui.edu (nakamura.uits.iupui.edu [134.68.220.122])\n",
      "Received: from nakamura.uits.iupui.edu (localhost [127.0.0.1])\n",
      "Received: (from apache@localhost)\n",
      "Received: from murder (mail.umich.edu [141.211.14.25])\n",
      "Received: from murder ([unix socket])\n",
      "Received: from holes.mr.itd.umich.edu (holes.mr.itd.umich.edu [141.211.14.79])\n",
      "Received: FROM paploo.uhi.ac.uk (app1.prod.collab.uhi.ac.uk [194.35.219.184])\n",
      "Received: from paploo.uhi.ac.uk (localhost [127.0.0.1])\n",
      "Received: from prod.collab.uhi.ac.uk ([194.35.219.182])\n",
      "Received: from nakamura.uits.iupui.edu (nakamura.uits.iupui.edu [134.68.220.122])\n",
      "Received: from nakamura.uits.iupui.edu (localhost [127.0.0.1])\n",
      "Received: (from apache@localhost)\n",
      "Received: from murder (mail.umich.edu [141.211.14.36])\n",
      "Received: from murder ([unix socket])\n",
      "Received: from creepshow.mr.itd.umich.edu (creepshow.mr.itd.umich.edu [141.211.14.84])\n",
      "Received: FROM paploo.uhi.ac.uk (app1.prod.collab.uhi.ac.uk [194.35.219.184])\n",
      "Received: from paploo.uhi.ac.uk (localhost [127.0.0.1])\n",
      "Received: from prod.collab.uhi.ac.uk ([194.35.219.182])\n",
      "Received: from nakamura.uits.iupui.edu (nakamura.uits.iupui.edu [134.68.220.122])\n",
      "Received: from nakamura.uits.iupui.edu (localhost [127.0.0.1])\n",
      "Received: (from apache@localhost)\n",
      "Received: from murder (mail.umich.edu [141.211.14.97])\n",
      "Received: from murder ([unix socket])\n",
      "Received: from carrie.mr.itd.umich.edu (carrie.mr.itd.umich.edu [141.211.93.152])\n",
      "Received: FROM paploo.uhi.ac.uk (app1.prod.collab.uhi.ac.uk [194.35.219.184])\n",
      "Received: from paploo.uhi.ac.uk (localhost [127.0.0.1])\n",
      "Received: from prod.collab.uhi.ac.uk ([194.35.219.182])\n",
      "Received: from nakamura.uits.iupui.edu (nakamura.uits.iupui.edu [134.68.220.122])\n",
      "Received: from nakamura.uits.iupui.edu (localhost [127.0.0.1])\n",
      "Received: (from apache@localhost)\n",
      "Received: from murder (mail.umich.edu [141.211.14.39])\n",
      "Received: from murder ([unix socket])\n",
      "Received: from holes.mr.itd.umich.edu (holes.mr.itd.umich.edu [141.211.14.79])\n",
      "Received: FROM paploo.uhi.ac.uk (app1.prod.collab.uhi.ac.uk [194.35.219.184])\n",
      "Received: from paploo.uhi.ac.uk (localhost [127.0.0.1])\n",
      "Received: from prod.collab.uhi.ac.uk ([194.35.219.182])\n",
      "Received: from nakamura.uits.iupui.edu (nakamura.uits.iupui.edu [134.68.220.122])\n",
      "Received: from nakamura.uits.iupui.edu (localhost [127.0.0.1])\n",
      "Received: (from apache@localhost)\n",
      "Received: from murder (mail.umich.edu [141.211.14.90])\n",
      "Received: from murder ([unix socket])\n",
      "Received: from shining.mr.itd.umich.edu (shining.mr.itd.umich.edu [141.211.93.153])\n",
      "Received: FROM paploo.uhi.ac.uk (app1.prod.collab.uhi.ac.uk [194.35.219.184])\n",
      "Received: from paploo.uhi.ac.uk (localhost [127.0.0.1])\n",
      "Received: from prod.collab.uhi.ac.uk ([194.35.219.182])\n",
      "Received: from nakamura.uits.iupui.edu (nakamura.uits.iupui.edu [134.68.220.122])\n",
      "Received: from nakamura.uits.iupui.edu (localhost [127.0.0.1])\n",
      "Received: (from apache@localhost)\n",
      "Received: from murder (mail.umich.edu [141.211.14.97])\n",
      "Received: from murder ([unix socket])\n",
      "Received: from creepshow.mr.itd.umich.edu (creepshow.mr.itd.umich.edu [141.211.14.84])\n",
      "Received: FROM paploo.uhi.ac.uk (app1.prod.collab.uhi.ac.uk [194.35.219.184])\n",
      "Received: from paploo.uhi.ac.uk (localhost [127.0.0.1])\n",
      "Received: from prod.collab.uhi.ac.uk ([194.35.219.182])\n",
      "Received: from nakamura.uits.iupui.edu (nakamura.uits.iupui.edu [134.68.220.122])\n",
      "Received: from nakamura.uits.iupui.edu (localhost [127.0.0.1])\n",
      "Received: (from apache@localhost)\n",
      "Received: from murder (mail.umich.edu [141.211.14.25])\n",
      "Received: from murder ([unix socket])\n",
      "Received: from holes.mr.itd.umich.edu (holes.mr.itd.umich.edu [141.211.14.79])\n",
      "Received: FROM paploo.uhi.ac.uk (app1.prod.collab.uhi.ac.uk [194.35.219.184])\n",
      "Received: from paploo.uhi.ac.uk (localhost [127.0.0.1])\n",
      "Received: from prod.collab.uhi.ac.uk ([194.35.219.182])\n",
      "Received: from nakamura.uits.iupui.edu (nakamura.uits.iupui.edu [134.68.220.122])\n",
      "Received: from nakamura.uits.iupui.edu (localhost [127.0.0.1])\n",
      "Received: (from apache@localhost)\n",
      "Received: from murder (mail.umich.edu [141.211.14.90])\n",
      "Received: from murder ([unix socket])\n",
      "Received: from guys.mr.itd.umich.edu (guys.mr.itd.umich.edu [141.211.14.76])\n",
      "Received: FROM paploo.uhi.ac.uk (app1.prod.collab.uhi.ac.uk [194.35.219.184])\n",
      "Received: from paploo.uhi.ac.uk (localhost [127.0.0.1])\n",
      "Received: from prod.collab.uhi.ac.uk ([194.35.219.182])\n",
      "Received: from nakamura.uits.iupui.edu (nakamura.uits.iupui.edu [134.68.220.122])\n",
      "Received: from nakamura.uits.iupui.edu (localhost [127.0.0.1])\n",
      "Received: (from apache@localhost)\n",
      "Received: from murder (mail.umich.edu [141.211.14.39])\n",
      "Received: from murder ([unix socket])\n",
      "Received: from guys.mr.itd.umich.edu (guys.mr.itd.umich.edu [141.211.14.76])\n",
      "Received: FROM paploo.uhi.ac.uk (app1.prod.collab.uhi.ac.uk [194.35.219.184])\n",
      "Received: from paploo.uhi.ac.uk (localhost [127.0.0.1])\n",
      "Received: from prod.collab.uhi.ac.uk ([194.35.219.182])\n",
      "Received: from nakamura.uits.iupui.edu (nakamura.uits.iupui.edu [134.68.220.122])\n",
      "Received: from nakamura.uits.iupui.edu (localhost [127.0.0.1])\n",
      "Received: (from apache@localhost)\n",
      "Received: from murder (mail.umich.edu [141.211.14.98])\n",
      "Received: from murder ([unix socket])\n",
      "Received: from firestarter.mr.itd.umich.edu (firestarter.mr.itd.umich.edu [141.211.14.83])\n",
      "Received: FROM paploo.uhi.ac.uk (app1.prod.collab.uhi.ac.uk [194.35.219.184])\n",
      "Received: from paploo.uhi.ac.uk (localhost [127.0.0.1])\n",
      "Received: from prod.collab.uhi.ac.uk ([194.35.219.182])\n",
      "Received: from nakamura.uits.iupui.edu (nakamura.uits.iupui.edu [134.68.220.122])\n",
      "Received: from nakamura.uits.iupui.edu (localhost [127.0.0.1])\n",
      "Received: (from apache@localhost)\n",
      "Received: from murder (mail.umich.edu [141.211.14.92])\n",
      "Received: from murder ([unix socket])\n",
      "Received: from galaxyquest.mr.itd.umich.edu (galaxyquest.mr.itd.umich.edu [141.211.93.145])\n",
      "Received: FROM paploo.uhi.ac.uk (app1.prod.collab.uhi.ac.uk [194.35.219.184])\n",
      "Received: from paploo.uhi.ac.uk (localhost [127.0.0.1])\n",
      "Received: from prod.collab.uhi.ac.uk ([194.35.219.182])\n",
      "Received: from nakamura.uits.iupui.edu (nakamura.uits.iupui.edu [134.68.220.122])\n",
      "Received: from nakamura.uits.iupui.edu (localhost [127.0.0.1])\n",
      "Received: (from apache@localhost)\n",
      "Received: from murder (mail.umich.edu [141.211.14.46])\n",
      "Received: from murder ([unix socket])\n",
      "Received: from workinggirl.mr.itd.umich.edu (workinggirl.mr.itd.umich.edu [141.211.93.143])\n",
      "Received: FROM paploo.uhi.ac.uk (app1.prod.collab.uhi.ac.uk [194.35.219.184])\n",
      "Received: from paploo.uhi.ac.uk (localhost [127.0.0.1])\n",
      "Received: from prod.collab.uhi.ac.uk ([194.35.219.182])\n",
      "Received: from nakamura.uits.iupui.edu (nakamura.uits.iupui.edu [134.68.220.122])\n",
      "Received: from nakamura.uits.iupui.edu (localhost [127.0.0.1])\n",
      "Received: (from apache@localhost)\n",
      "Received: from murder (mail.umich.edu [141.211.14.25])\n",
      "Received: from murder ([unix socket])\n",
      "Received: from salemslot.mr.itd.umich.edu (salemslot.mr.itd.umich.edu [141.211.14.58])\n",
      "Received: FROM paploo.uhi.ac.uk (app1.prod.collab.uhi.ac.uk [194.35.219.184])\n",
      "Received: from paploo.uhi.ac.uk (localhost [127.0.0.1])\n",
      "Received: from prod.collab.uhi.ac.uk ([194.35.219.182])\n",
      "Received: from nakamura.uits.iupui.edu (nakamura.uits.iupui.edu [134.68.220.122])\n",
      "Received: from nakamura.uits.iupui.edu (localhost [127.0.0.1])\n",
      "Received: (from apache@localhost)\n",
      "Received: from murder (mail.umich.edu [141.211.14.91])\n",
      "Received: from murder ([unix socket])\n",
      "Received: from eyewitness.mr.itd.umich.edu (eyewitness.mr.itd.umich.edu [141.211.93.142])\n",
      "Received: FROM paploo.uhi.ac.uk (app1.prod.collab.uhi.ac.uk [194.35.219.184])\n",
      "Received: from paploo.uhi.ac.uk (localhost [127.0.0.1])\n",
      "Received: from prod.collab.uhi.ac.uk ([194.35.219.182])\n",
      "Received: from nakamura.uits.iupui.edu (nakamura.uits.iupui.edu [134.68.220.122])\n",
      "Received: from nakamura.uits.iupui.edu (localhost [127.0.0.1])\n",
      "Received: (from apache@localhost)\n",
      "Received: from murder (mail.umich.edu [141.211.14.91])\n",
      "Received: from murder ([unix socket])\n",
      "Received: from salemslot.mr.itd.umich.edu (salemslot.mr.itd.umich.edu [141.211.14.58])\n",
      "Received: FROM paploo.uhi.ac.uk (app1.prod.collab.uhi.ac.uk [194.35.219.184])\n",
      "Received: from paploo.uhi.ac.uk (localhost [127.0.0.1])\n",
      "Received: from prod.collab.uhi.ac.uk ([194.35.219.182])\n",
      "Received: from nakamura.uits.iupui.edu (nakamura.uits.iupui.edu [134.68.220.122])\n",
      "Received: from nakamura.uits.iupui.edu (localhost [127.0.0.1])\n",
      "Received: (from apache@localhost)\n",
      "Received: from murder (mail.umich.edu [141.211.14.39])\n",
      "Received: from murder ([unix socket])\n",
      "Received: from anniehall.mr.itd.umich.edu (anniehall.mr.itd.umich.edu [141.211.93.141])\n",
      "Received: FROM paploo.uhi.ac.uk (app1.prod.collab.uhi.ac.uk [194.35.219.184])\n",
      "Received: from paploo.uhi.ac.uk (localhost [127.0.0.1])\n",
      "Received: from prod.collab.uhi.ac.uk ([194.35.219.182])\n",
      "Received: from nakamura.uits.iupui.edu (nakamura.uits.iupui.edu [134.68.220.122])\n",
      "Received: from nakamura.uits.iupui.edu (localhost [127.0.0.1])\n",
      "Received: (from apache@localhost)\n",
      "Received: from murder (mail.umich.edu [141.211.14.34])\n",
      "Received: from murder ([unix socket])\n",
      "Received: from icestorm.mr.itd.umich.edu (icestorm.mr.itd.umich.edu [141.211.93.149])\n",
      "Received: FROM paploo.uhi.ac.uk (app1.prod.collab.uhi.ac.uk [194.35.219.184])\n",
      "Received: from paploo.uhi.ac.uk (localhost [127.0.0.1])\n",
      "Received: from prod.collab.uhi.ac.uk ([194.35.219.182])\n",
      "Received: from nakamura.uits.iupui.edu (nakamura.uits.iupui.edu [134.68.220.122])\n",
      "Received: from nakamura.uits.iupui.edu (localhost [127.0.0.1])\n",
      "Received: (from apache@localhost)\n",
      "Received: from murder (mail.umich.edu [141.211.14.46])\n",
      "Received: from murder ([unix socket])\n",
      "Received: from galaxyquest.mr.itd.umich.edu (galaxyquest.mr.itd.umich.edu [141.211.93.145])\n",
      "Received: FROM paploo.uhi.ac.uk (app1.prod.collab.uhi.ac.uk [194.35.219.184])\n",
      "Received: from paploo.uhi.ac.uk (localhost [127.0.0.1])\n",
      "Received: from prod.collab.uhi.ac.uk ([194.35.219.182])\n",
      "Received: from nakamura.uits.iupui.edu (nakamura.uits.iupui.edu [134.68.220.122])\n",
      "Received: from nakamura.uits.iupui.edu (localhost [127.0.0.1])\n",
      "Received: (from apache@localhost)\n",
      "Received: from murder (mail.umich.edu [141.211.14.91])\n",
      "Received: from murder ([unix socket])\n",
      "Received: from salemslot.mr.itd.umich.edu (salemslot.mr.itd.umich.edu [141.211.14.58])\n",
      "Received: FROM paploo.uhi.ac.uk (app1.prod.collab.uhi.ac.uk [194.35.219.184])\n",
      "Received: from paploo.uhi.ac.uk (localhost [127.0.0.1])\n",
      "Received: from prod.collab.uhi.ac.uk ([194.35.219.182])\n",
      "Received: from nakamura.uits.iupui.edu (nakamura.uits.iupui.edu [134.68.220.122])\n",
      "Received: from nakamura.uits.iupui.edu (localhost [127.0.0.1])\n",
      "Received: (from apache@localhost)\n"
     ]
    }
   ],
   "source": [
    "import re\n",
    "f1 = open('mbox-short.txt')\n",
    "for line in f1:\n",
    "    l = line.rstrip()\n",
    "    if re.search('^Rec+', l):\n",
    "        print(l)"
   ]
  },
  {
   "cell_type": "code",
   "execution_count": null,
   "metadata": {},
   "outputs": [],
   "source": []
  }
 ],
 "metadata": {
  "kernelspec": {
   "display_name": "Python 3",
   "language": "python",
   "name": "python3"
  },
  "language_info": {
   "codemirror_mode": {
    "name": "ipython",
    "version": 3
   },
   "file_extension": ".py",
   "mimetype": "text/x-python",
   "name": "python",
   "nbconvert_exporter": "python",
   "pygments_lexer": "ipython3",
   "version": "3.8.5"
  }
 },
 "nbformat": 4,
 "nbformat_minor": 4
}
