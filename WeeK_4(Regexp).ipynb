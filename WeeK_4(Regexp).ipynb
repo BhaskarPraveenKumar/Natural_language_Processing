{
 "cells": [
  {
   "cell_type": "markdown",
   "metadata": {},
   "source": [
    "**WeeK_4 Regular Expression**"
   ]
  },
  {
   "cell_type": "code",
   "execution_count": 3,
   "metadata": {},
   "outputs": [
    {
     "name": "stdout",
     "output_type": "stream",
     "text": [
      "(1997)\n"
     ]
    }
   ],
   "source": [
    "import re\n",
    "x = 'Mitchell, T. M. (1997) “Machine Learning” ' \n",
    "element = x.split()\n",
    "numbers = element[3]\n",
    "print(numbers)"
   ]
  },
  {
   "cell_type": "code",
   "execution_count": 81,
   "metadata": {},
   "outputs": [],
   "source": [
    "import re\n",
    "x = 'Mitchell, T. M. (1997) “Machine Learning Alpaydin 2014 yunfei.long@essex.ac.uk  ”'\n",
    "for line in x:\n",
    "    if re.findall('[a-z]@[a-z]', line):\n",
    "        print(line,end = ' ')      "
   ]
  },
  {
   "cell_type": "code",
   "execution_count": 102,
   "metadata": {},
   "outputs": [
    {
     "name": "stdout",
     "output_type": "stream",
     "text": [
      "['7@essex.ac.uk']\n"
     ]
    }
   ],
   "source": [
    "x = 'yunfei.long@essex.ac.uk Sat Jan 5 9:14:16 2020'\n",
    "y = re.findall('\\w\\D*@\\w*\\D\\w*\\D\\w+', x)\n",
    "print(y)"
   ]
  },
  {
   "cell_type": "code",
   "execution_count": 107,
   "metadata": {},
   "outputs": [
    {
     "name": "stdout",
     "output_type": "stream",
     "text": [
      "['pb21677@essex.ac.uk']\n"
     ]
    }
   ],
   "source": [
    "x = ' pb21677@essex.ac.uk Sat Jan 5 9:14:16 2020'\n",
    "y = re.findall('\\S+@\\S+', x)\n",
    "print(y)"
   ]
  },
  {
   "cell_type": "code",
   "execution_count": 159,
   "metadata": {},
   "outputs": [
    {
     "name": "stdout",
     "output_type": "stream",
     "text": [
      "['F1: Using the :']\n"
     ]
    }
   ],
   "source": [
    "x = 'F1: Using the : character'\n",
    "y = re.findall('^F.*:', x)\n",
    "print(y)"
   ]
  },
  {
   "cell_type": "code",
   "execution_count": 116,
   "metadata": {},
   "outputs": [
    {
     "name": "stdout",
     "output_type": "stream",
     "text": [
      "['pb21677_887@essex.ac.uk']\n"
     ]
    }
   ],
   "source": [
    "x = 'pb21677_887@essex.ac.uk Data_science'\n",
    "y = re.findall('.+@\\w+\\D\\w+\\D\\w*', x)\n",
    "print(y)"
   ]
  },
  {
   "cell_type": "code",
   "execution_count": 126,
   "metadata": {},
   "outputs": [
    {
     "name": "stdout",
     "output_type": "stream",
     "text": [
      "['essex.ac.uk']\n"
     ]
    }
   ],
   "source": [
    "x = 'pb21677_887@essex.ac.uk Data_science'\n",
    "y = re.findall('@(\\S+)', x)\n",
    "print(y)"
   ]
  },
  {
   "cell_type": "code",
   "execution_count": 156,
   "metadata": {},
   "outputs": [
    {
     "name": "stdout",
     "output_type": "stream",
     "text": [
      "['yunfei.long@essex.ac.uk ']\n"
     ]
    }
   ],
   "source": [
    "x = 'yunfei.long@essex.ac.uk Sat Jan-5 09:14:16 2021'\n",
    "y = re.findall('\\S+@\\S+ ', x)\n",
    "print(y)"
   ]
  },
  {
   "cell_type": "code",
   "execution_count": 167,
   "metadata": {},
   "outputs": [
    {
     "name": "stdin",
     "output_type": "stream",
     "text": [
      "enetr any string abcd\n"
     ]
    },
    {
     "name": "stdout",
     "output_type": "stream",
     "text": [
      "enter valid string\n"
     ]
    }
   ],
   "source": [
    "import re\n",
    "s = input('enetr any string')\n",
    "if re.search('[A-Z][a-z][A-Z]d',s):\n",
    "    print('this works')\n",
    "else:\n",
    "    print('enter valid string')"
   ]
  },
  {
   "cell_type": "code",
   "execution_count": null,
   "metadata": {},
   "outputs": [],
   "source": [
    "wsj = text7.tokens"
   ]
  }
 ],
 "metadata": {
  "kernelspec": {
   "display_name": "Python 3",
   "language": "python",
   "name": "python3"
  },
  "language_info": {
   "codemirror_mode": {
    "name": "ipython",
    "version": 3
   },
   "file_extension": ".py",
   "mimetype": "text/x-python",
   "name": "python",
   "nbconvert_exporter": "python",
   "pygments_lexer": "ipython3",
   "version": "3.8.5"
  }
 },
 "nbformat": 4,
 "nbformat_minor": 4
}
