{
 "cells": [
  {
   "cell_type": "markdown",
   "metadata": {},
   "source": [
    "**• (20%) Write a regular expression that can matching all phone numbers listed below: (You \n",
    "can write a python program to check the matching results)\n",
    "555.123.4565\n",
    "+1-(800)-545-2468,\n",
    "2-(800)-545-2468,\n",
    "3-800-545-2468,\n",
    "555-123-3456,\n",
    "555 222 3342,\n",
    "(234) 234 2442,\n",
    "(243)-234-2342,\n",
    "1234567890,\n",
    "123.456.7890,\n",
    "123.4567,\n",
    "123-4567,\n",
    "1234567900,\n",
    "1234567890**"
   ]
  },
  {
   "cell_type": "code",
   "execution_count": 1,
   "metadata": {},
   "outputs": [],
   "source": [
    "import re"
   ]
  },
  {
   "cell_type": "code",
   "execution_count": 20,
   "metadata": {},
   "outputs": [
    {
     "name": "stdout",
     "output_type": "stream",
     "text": [
      "match found\n"
     ]
    }
   ],
   "source": [
    "match = '555.123.4565'\n",
    "pattern = re.fullmatch('\\d.+',match)\n",
    "if pattern != None:\n",
    "    print('match found')\n",
    "else:\n",
    "    print('match not found')"
   ]
  },
  {
   "cell_type": "code",
   "execution_count": 28,
   "metadata": {},
   "outputs": [
    {
     "name": "stdout",
     "output_type": "stream",
     "text": [
      "match found\n"
     ]
    }
   ],
   "source": [
    "match = '+1-(800)-545-2468'\n",
    "pattern = re.fullmatch('\\W\\d.+',match)\n",
    "if pattern != None:\n",
    "    print('match found')\n",
    "else:\n",
    "    print('match not found')"
   ]
  },
  {
   "cell_type": "code",
   "execution_count": 30,
   "metadata": {},
   "outputs": [
    {
     "name": "stdout",
     "output_type": "stream",
     "text": [
      "['(234) 234 2442']\n"
     ]
    }
   ],
   "source": [
    "match = '(234) 234 2442'\n",
    "pattern = re.findall('\\W\\d.+',match)\n",
    "print(pattern)"
   ]
  },
  {
   "cell_type": "code",
   "execution_count": 43,
   "metadata": {},
   "outputs": [
    {
     "name": "stdin",
     "output_type": "stream",
     "text": [
      "enter any number (243)-234-2342\n"
     ]
    },
    {
     "name": "stdout",
     "output_type": "stream",
     "text": [
      "['(243)-234-2342']\n"
     ]
    }
   ],
   "source": [
    "match = input('enter any number')\n",
    "pattern = re.findall('\\W?\\d.+', match)\n",
    "print(pattern)"
   ]
  },
  {
   "cell_type": "code",
   "execution_count": 58,
   "metadata": {},
   "outputs": [
    {
     "name": "stdout",
     "output_type": "stream",
     "text": [
      "['555.123.4565']\n",
      "['+1-(800)-545-2468']\n",
      "['2-(800)-545-2468']\n",
      "['3-800-545-2468']\n",
      "['555-123-3456']\n",
      "['555 222 3342']\n",
      "['(234) 234 2442']\n",
      "['(243)-234-2342']\n",
      "['1234567890']\n",
      "['123.456.7890']\n",
      "['123.4567']\n",
      "['123-4567']\n",
      "['1234567900']\n",
      "['12345678900']\n"
     ]
    }
   ],
   "source": [
    "file = open('mobile_numbers.txt')\n",
    "for line in file:\n",
    "    i =  re.findall('\\W?\\d.+', line)\n",
    "    print(i)"
   ]
  },
  {
   "cell_type": "markdown",
   "metadata": {},
   "source": [
    "**(20%) Write a regular expression that can find all amounts of money in a text. Your expression \n",
    "should be able to deal with different formats and currencies, for example £50,000 and \n",
    "£117.3m as well as 30p, 500m euro, 338bn euros, $15bn and $92.88. Make sure that you can \n",
    "at least detect amounts in Pounds, Dollars and Euros**"
   ]
  },
  {
   "cell_type": "code",
   "execution_count": 112,
   "metadata": {},
   "outputs": [
    {
     "name": "stdout",
     "output_type": "stream",
     "text": [
      "rajesh salary is 100,000$\n",
      "my salary is Â£50,000             sandeep daily wages is 39p\n",
      "              my bestie salry is 338bn euros\n",
      "and also suresh salary is Â£117.3m\n"
     ]
    }
   ],
   "source": [
    "cur = open('currencies.txt')\n",
    "for line in cur:\n",
    "    l = line.rstrip()\n",
    "    if re.match('\\D',l):\n",
    "        print(l)\n",
    "\n",
    "    "
   ]
  },
  {
   "cell_type": "code",
   "execution_count": 70,
   "metadata": {},
   "outputs": [
    {
     "name": "stdout",
     "output_type": "stream",
     "text": [
      "['200USD']\n"
     ]
    }
   ],
   "source": [
    "match = re.findall('\\W?\\d\\w.+', line)\n",
    "print(match)"
   ]
  },
  {
   "cell_type": "code",
   "execution_count": 74,
   "metadata": {},
   "outputs": [
    {
     "name": "stdout",
     "output_type": "stream",
     "text": [
      "['£50,000']\n"
     ]
    }
   ],
   "source": [
    "match = '£50,000'\n",
    "pattern = re.findall('\\W?\\d.+',match)\n",
    "print(pattern)"
   ]
  },
  {
   "cell_type": "code",
   "execution_count": 73,
   "metadata": {},
   "outputs": [
    {
     "name": "stdout",
     "output_type": "stream",
     "text": [
      "['100,000$']\n"
     ]
    }
   ],
   "source": [
    "match = '100,000$'\n",
    "pattern = re.findall('\\W?\\d.+',match)\n",
    "print(pattern)"
   ]
  },
  {
   "cell_type": "code",
   "execution_count": 88,
   "metadata": {},
   "outputs": [
    {
     "name": "stdout",
     "output_type": "stream",
     "text": [
      "['1,234.56Cr']\n"
     ]
    }
   ],
   "source": [
    "match = '1,234.56Cr'\n",
    "pattern = re.findall('\\W?\\d.+',match)\n",
    "print(pattern)"
   ]
  },
  {
   "cell_type": "code",
   "execution_count": 113,
   "metadata": {},
   "outputs": [
    {
     "name": "stdout",
     "output_type": "stream",
     "text": [
      "rajesh salary is 100,000$\n",
      "\n",
      "my salary is Â£50,000             sandeep daily wages is 39p\n",
      "\n",
      "              my bestie salry is 338bn euros\n",
      "\n",
      "and also suresh salary is Â£117.3m\n",
      "\n",
      "200USD\n"
     ]
    }
   ],
   "source": [
    "file = open('currencies.txt')\n",
    "for line in file:\n",
    "    print(line)"
   ]
  },
  {
   "cell_type": "code",
   "execution_count": 234,
   "metadata": {},
   "outputs": [
    {
     "name": "stdout",
     "output_type": "stream",
     "text": [
      "['$']\n",
      "['p']\n",
      "['s']\n",
      "['m']\n",
      "['D']\n"
     ]
    }
   ],
   "source": [
    "file = open('currencies.txt')\n",
    "for line in file:\n",
    "    l = line.rstrip()\n",
    "    m = re.findall('.\\d.+\\w([^ ])+',l)\n",
    "    print(m)"
   ]
  },
  {
   "cell_type": "code",
   "execution_count": 149,
   "metadata": {},
   "outputs": [
    {
     "name": "stdout",
     "output_type": "stream",
     "text": [
      "['5', '0', '0', '0', '0']\n"
     ]
    }
   ],
   "source": [
    "x = 'My salary is 50000$'\n",
    "m = re.findall('\\d', x)\n",
    "print(m)"
   ]
  },
  {
   "cell_type": "code",
   "execution_count": 175,
   "metadata": {},
   "outputs": [
    {
     "name": "stdout",
     "output_type": "stream",
     "text": [
      "['essex.ac.uk']\n"
     ]
    }
   ],
   "source": [
    "char = 'From yunfei.long@essex.ac.uk Sat Jan  5 09:14:16 2020'\n",
    "y = re.findall('@([^ ]*)',char)\n",
    "y1 = re.search('^From .*@([^ ]*)',char)\n",
    "y2 = re.findall('^From .*@([^ ]*)',char)\n",
    "print (y2)"
   ]
  },
  {
   "cell_type": "code",
   "execution_count": 187,
   "metadata": {},
   "outputs": [
    {
     "name": "stdout",
     "output_type": "stream",
     "text": [
      "['essex.ac.uk.pk']\n"
     ]
    }
   ],
   "source": [
    "char = 'From yunfei.long@essex.ac.uk.pk Sat Jan  5 09:14:16 2020'\n",
    "y = re.findall('\\S+:\\S*',char)\n",
    "y1 = re.findall('^From.*@([^ ]*)', char)\n",
    "print (y1)"
   ]
  },
  {
   "cell_type": "code",
   "execution_count": 219,
   "metadata": {},
   "outputs": [
    {
     "name": "stdout",
     "output_type": "stream",
     "text": [
      "[' 500GBP']\n"
     ]
    }
   ],
   "source": [
    "x = 'My salary is 500'\n",
    "m = re.findall('.\\d.+', x)\n",
    "print(m)"
   ]
  },
  {
   "cell_type": "code",
   "execution_count": 240,
   "metadata": {},
   "outputs": [
    {
     "name": "stdout",
     "output_type": "stream",
     "text": [
      "['+91 7207509980']\n"
     ]
    }
   ],
   "source": [
    "s = 'My number is +91 7207509980'\n",
    "m = re.findall('\\W?\\d.+', s)\n",
    "print(m)"
   ]
  },
  {
   "cell_type": "code",
   "execution_count": 259,
   "metadata": {},
   "outputs": [
    {
     "name": "stdout",
     "output_type": "stream",
     "text": [
      "[' 100,000']\n",
      "['£50,000']\n",
      "[' 338bn euros']\n",
      "['£117.3m']\n",
      "[]\n",
      "['$92.88']\n"
     ]
    }
   ],
   "source": [
    "f1 = open('currencies.txt')\n",
    "for line in f1:\n",
    "    l = line.strip()\n",
    "    m = re.findall('\\W?\\d\\S+[\\W]\\w+',l)\n",
    "    print(m)"
   ]
  },
  {
   "cell_type": "code",
   "execution_count": 262,
   "metadata": {},
   "outputs": [
    {
     "name": "stdout",
     "output_type": "stream",
     "text": [
      "rajesh salary is 100,000$\n",
      "\n",
      "my salary is Â£50,000             sandeep daily wages is 39p\n",
      "\n",
      "              my bestie salry is 338bn euros\n",
      "\n",
      "and also suresh salary is Â£117.3m\n",
      "\n",
      "200USD    and also $15bn   \n",
      "\n",
      "$92.88\n"
     ]
    }
   ],
   "source": [
    "f1 = open('currencies.txt')\n",
    "for line in f1:\n",
    "    print(line)"
   ]
  },
  {
   "cell_type": "code",
   "execution_count": 414,
   "metadata": {},
   "outputs": [
    {
     "name": "stdout",
     "output_type": "stream",
     "text": [
      "['100,000$']\n",
      "['Â£50,000', '39p']\n",
      "['338bn']\n",
      "['Â£117.3m']\n",
      "['200USD', '$15bn']\n",
      "['$92.88']\n"
     ]
    }
   ],
   "source": [
    "f1 = open('currencies.txt')\n",
    "for line in f1:\n",
    "    m = re.findall('\\S+\\d+\\S+', line)\n",
    "    print(m)"
   ]
  },
  {
   "cell_type": "code",
   "execution_count": 77,
   "metadata": {},
   "outputs": [
    {
     "name": "stdout",
     "output_type": "stream",
     "text": [
      "['100,000$ euros', '£25,000 ', '1.2m ', '39p ', '200dollars']\n"
     ]
    }
   ],
   "source": [
    "import re\n",
    "s = 'My salary is 100,000$ euros per year, my previous salary £25,000 and highest salary is 1.2m pounds and 39p aer minute 200dollars'\n",
    "m = re.findall('\\S+\\d\\S+(?:\\s)?(?:euros|pounds\\dollars)?', s)\n",
    "print(m)"
   ]
  },
  {
   "cell_type": "code",
   "execution_count": 78,
   "metadata": {},
   "outputs": [],
   "source": [
    "#so with the one i gave you, the space is only included in the match if the word is also there\n"
   ]
  },
  {
   "cell_type": "code",
   "execution_count": 73,
   "metadata": {},
   "outputs": [
    {
     "name": "stdout",
     "output_type": "stream",
     "text": [
      "['100,000$ euros', '1.2m pounds']\n"
     ]
    }
   ],
   "source": [
    "import re\n",
    "s = 'My salary is 100,000$ euros per year, my previous salary £25,000 and highest salary is 1.2m pounds and 39p aer minute'\n",
    "m = re.findall('\\S+\\d\\S+\\W+[euros|pounds]+', s)\n",
    "print(m)"
   ]
  },
  {
   "cell_type": "code",
   "execution_count": 82,
   "metadata": {},
   "outputs": [
    {
     "name": "stdout",
     "output_type": "stream",
     "text": [
      "['100,000$ euros', '£25,000 ', '1.2m pounds', '39p ']\n"
     ]
    }
   ],
   "source": [
    "import re\n",
    "s = 'My salary is 100,000$ euros per year, my previous salary £25,000 and highest salary is 1.2m pounds and 39p aer minute'\n",
    "m = re.findall('\\S+\\d\\S+(?:\\s)?(?:euros|pounds|dollars)?', s)\n",
    "print(m)"
   ]
  },
  {
   "cell_type": "code",
   "execution_count": 87,
   "metadata": {},
   "outputs": [
    {
     "name": "stdout",
     "output_type": "stream",
     "text": [
      "[]\n"
     ]
    }
   ],
   "source": [
    "import re\n",
    "s = 'My sacary is 100,000$ euros per year, my previous salary £25,000 and highest salary is 1.2m pounds and 39p aer minute'\n",
    "m = re.findall('\\S*\\d\\S*(?:\\s*(?:euro|pound)s?)?', s)\n",
    "print(m)"
   ]
  },
  {
   "cell_type": "code",
   "execution_count": 95,
   "metadata": {},
   "outputs": [
    {
     "name": "stdout",
     "output_type": "stream",
     "text": [
      "['10K', '1.24 lakhs', '£24500', '$100,000 pounds']\n"
     ]
    }
   ],
   "source": [
    "x = 'My salary is 10K per minth, so annual salry is 1.24 lakhs £24500 and after five years $100,000 pounds'\n",
    "m = re.findall('\\S+\\d+\\S+(?:\\s(?:pound|lakh)s?)?', x)\n",
    "print(m)"
   ]
  },
  {
   "cell_type": "code",
   "execution_count": null,
   "metadata": {},
   "outputs": [],
   "source": []
  }
 ],
 "metadata": {
  "kernelspec": {
   "display_name": "Python 3",
   "language": "python",
   "name": "python3"
  },
  "language_info": {
   "codemirror_mode": {
    "name": "ipython",
    "version": 3
   },
   "file_extension": ".py",
   "mimetype": "text/x-python",
   "name": "python",
   "nbconvert_exporter": "python",
   "pygments_lexer": "ipython3",
   "version": "3.8.5"
  }
 },
 "nbformat": 4,
 "nbformat_minor": 4
}
